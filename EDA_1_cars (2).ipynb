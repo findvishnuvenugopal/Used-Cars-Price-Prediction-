{
 "cells": [
  {
   "cell_type": "code",
   "execution_count": 1,
   "id": "ade0ce58",
   "metadata": {},
   "outputs": [],
   "source": [
    "import pandas as pd\n",
    "import numpy as np\n",
    "import matplotlib.pyplot as plt\n",
    "import seaborn as sns\n",
    "import scipy\n",
    "from scipy import stats\n",
    "from scipy.stats import chi2_contingency\n",
    "import statsmodels.api as sm\n",
    "from statsmodels.formula.api import ols\n",
    "from statsmodels.stats.multicomp import pairwise_tukeyhsd\n",
    "import statsmodels.formula.api as smf\n",
    "pd.set_option('display.max_column',None)\n",
    "from sklearn.linear_model import LinearRegression\n",
    "pd.set_option('display.max_column',None)\n",
    "from sklearn.linear_model import LinearRegression\n",
    "from statsmodels.stats.outliers_influence import variance_inflation_factor\n",
    "from sklearn.model_selection import train_test_split\n",
    "from sklearn.preprocessing import StandardScaler\n",
    "from sklearn.preprocessing import LabelEncoder\n",
    "from sklearn.linear_model import SGDRegressor\n",
    "from sklearn.metrics import mean_squared_error\n",
    "from sklearn.metrics import confusion_matrix , classification_report\n",
    "from sklearn.metrics import confusion_matrix \n",
    "from sklearn.preprocessing import LabelEncoder\n",
    "from sklearn.metrics import roc_curve,auc,roc_auc_score\n",
    "from sklearn.linear_model import LogisticRegression\n",
    "from sklearn import metrics\n",
    "from sklearn.metrics import confusion_matrix , classification_report\n",
    "from sklearn.metrics import classification_report\n",
    "from sklearn.utils import resample\n",
    "import warnings\n",
    "warnings.filterwarnings(\"ignore\")"
   ]
  },
  {
   "cell_type": "code",
   "execution_count": 2,
   "id": "2df2f6d2",
   "metadata": {},
   "outputs": [],
   "source": [
    "cars =  pd.read_csv(\"C:\\\\Users\\\\imvv44\\\\Downloads\\\\cardata.csv\")"
   ]
  },
  {
   "cell_type": "code",
   "execution_count": 3,
   "id": "dca28726",
   "metadata": {},
   "outputs": [
    {
     "data": {
      "text/html": [
       "<div>\n",
       "<style scoped>\n",
       "    .dataframe tbody tr th:only-of-type {\n",
       "        vertical-align: middle;\n",
       "    }\n",
       "\n",
       "    .dataframe tbody tr th {\n",
       "        vertical-align: top;\n",
       "    }\n",
       "\n",
       "    .dataframe thead th {\n",
       "        text-align: right;\n",
       "    }\n",
       "</style>\n",
       "<table border=\"1\" class=\"dataframe\">\n",
       "  <thead>\n",
       "    <tr style=\"text-align: right;\">\n",
       "      <th></th>\n",
       "      <th>Year</th>\n",
       "      <th>Selling_Price</th>\n",
       "      <th>Present_Price</th>\n",
       "      <th>Kms_Driven</th>\n",
       "      <th>Owner</th>\n",
       "    </tr>\n",
       "  </thead>\n",
       "  <tbody>\n",
       "    <tr>\n",
       "      <th>count</th>\n",
       "      <td>301.000000</td>\n",
       "      <td>301.000000</td>\n",
       "      <td>301.000000</td>\n",
       "      <td>301.000000</td>\n",
       "      <td>301.000000</td>\n",
       "    </tr>\n",
       "    <tr>\n",
       "      <th>mean</th>\n",
       "      <td>2013.627907</td>\n",
       "      <td>4.661296</td>\n",
       "      <td>7.628472</td>\n",
       "      <td>36947.205980</td>\n",
       "      <td>0.043189</td>\n",
       "    </tr>\n",
       "    <tr>\n",
       "      <th>std</th>\n",
       "      <td>2.891554</td>\n",
       "      <td>5.082812</td>\n",
       "      <td>8.644115</td>\n",
       "      <td>38886.883882</td>\n",
       "      <td>0.247915</td>\n",
       "    </tr>\n",
       "    <tr>\n",
       "      <th>min</th>\n",
       "      <td>2003.000000</td>\n",
       "      <td>0.100000</td>\n",
       "      <td>0.320000</td>\n",
       "      <td>500.000000</td>\n",
       "      <td>0.000000</td>\n",
       "    </tr>\n",
       "    <tr>\n",
       "      <th>25%</th>\n",
       "      <td>2012.000000</td>\n",
       "      <td>0.900000</td>\n",
       "      <td>1.200000</td>\n",
       "      <td>15000.000000</td>\n",
       "      <td>0.000000</td>\n",
       "    </tr>\n",
       "    <tr>\n",
       "      <th>50%</th>\n",
       "      <td>2014.000000</td>\n",
       "      <td>3.600000</td>\n",
       "      <td>6.400000</td>\n",
       "      <td>32000.000000</td>\n",
       "      <td>0.000000</td>\n",
       "    </tr>\n",
       "    <tr>\n",
       "      <th>75%</th>\n",
       "      <td>2016.000000</td>\n",
       "      <td>6.000000</td>\n",
       "      <td>9.900000</td>\n",
       "      <td>48767.000000</td>\n",
       "      <td>0.000000</td>\n",
       "    </tr>\n",
       "    <tr>\n",
       "      <th>max</th>\n",
       "      <td>2018.000000</td>\n",
       "      <td>35.000000</td>\n",
       "      <td>92.600000</td>\n",
       "      <td>500000.000000</td>\n",
       "      <td>3.000000</td>\n",
       "    </tr>\n",
       "  </tbody>\n",
       "</table>\n",
       "</div>"
      ],
      "text/plain": [
       "              Year  Selling_Price  Present_Price     Kms_Driven       Owner\n",
       "count   301.000000     301.000000     301.000000     301.000000  301.000000\n",
       "mean   2013.627907       4.661296       7.628472   36947.205980    0.043189\n",
       "std       2.891554       5.082812       8.644115   38886.883882    0.247915\n",
       "min    2003.000000       0.100000       0.320000     500.000000    0.000000\n",
       "25%    2012.000000       0.900000       1.200000   15000.000000    0.000000\n",
       "50%    2014.000000       3.600000       6.400000   32000.000000    0.000000\n",
       "75%    2016.000000       6.000000       9.900000   48767.000000    0.000000\n",
       "max    2018.000000      35.000000      92.600000  500000.000000    3.000000"
      ]
     },
     "execution_count": 3,
     "metadata": {},
     "output_type": "execute_result"
    }
   ],
   "source": [
    "cars.describe()"
   ]
  },
  {
   "cell_type": "code",
   "execution_count": 4,
   "id": "ef83a9e4",
   "metadata": {
    "scrolled": true
   },
   "outputs": [
    {
     "name": "stdout",
     "output_type": "stream",
     "text": [
      "<class 'pandas.core.frame.DataFrame'>\n",
      "RangeIndex: 301 entries, 0 to 300\n",
      "Data columns (total 9 columns):\n",
      " #   Column         Non-Null Count  Dtype  \n",
      "---  ------         --------------  -----  \n",
      " 0   Car_Name       301 non-null    object \n",
      " 1   Year           301 non-null    int64  \n",
      " 2   Selling_Price  301 non-null    float64\n",
      " 3   Present_Price  301 non-null    float64\n",
      " 4   Kms_Driven     301 non-null    int64  \n",
      " 5   Fuel_Type      301 non-null    object \n",
      " 6   Seller_Type    301 non-null    object \n",
      " 7   Transmission   301 non-null    object \n",
      " 8   Owner          301 non-null    int64  \n",
      "dtypes: float64(2), int64(3), object(4)\n",
      "memory usage: 21.3+ KB\n"
     ]
    },
    {
     "data": {
      "text/plain": [
       "(301, 9)"
      ]
     },
     "execution_count": 4,
     "metadata": {},
     "output_type": "execute_result"
    }
   ],
   "source": [
    "cars.info()\n",
    "cars.shape"
   ]
  },
  {
   "cell_type": "code",
   "execution_count": 5,
   "id": "1df8beb8",
   "metadata": {},
   "outputs": [],
   "source": [
    "df = pd.DataFrame(cars)"
   ]
  },
  {
   "cell_type": "code",
   "execution_count": 6,
   "id": "424c20b8",
   "metadata": {},
   "outputs": [
    {
     "name": "stdout",
     "output_type": "stream",
     "text": [
      "The no. of null values in each column are:\n",
      " Car_Name         0\n",
      "Year             0\n",
      "Selling_Price    0\n",
      "Present_Price    0\n",
      "Kms_Driven       0\n",
      "Fuel_Type        0\n",
      "Seller_Type      0\n",
      "Transmission     0\n",
      "Owner            0\n",
      "dtype: int64\n"
     ]
    }
   ],
   "source": [
    "def overlook(dataframe):\n",
    "    print('The no. of null values in each column are:\\n',df.isnull().sum())\n",
    "    return\n",
    "\n",
    "overlook(df)"
   ]
  },
  {
   "cell_type": "code",
   "execution_count": 7,
   "id": "7ed0ae2a",
   "metadata": {},
   "outputs": [
    {
     "data": {
      "text/plain": [
       "Index(['Car_Name', 'Year', 'Selling_Price', 'Present_Price', 'Kms_Driven',\n",
       "       'Fuel_Type', 'Seller_Type', 'Transmission', 'Owner'],\n",
       "      dtype='object')"
      ]
     },
     "execution_count": 7,
     "metadata": {},
     "output_type": "execute_result"
    }
   ],
   "source": [
    "cars.dtypes.index"
   ]
  },
  {
   "cell_type": "code",
   "execution_count": 8,
   "id": "fdce9038",
   "metadata": {},
   "outputs": [
    {
     "name": "stdout",
     "output_type": "stream",
     "text": [
      "Index(['Car_Name', 'Fuel_Type', 'Seller_Type', 'Transmission'], dtype='object')\n"
     ]
    }
   ],
   "source": [
    "## selecting all categorical variable columns\n",
    "categorical_columns = cars.dtypes[cars.dtypes == 'object'].index\n",
    "print(categorical_columns)"
   ]
  },
  {
   "cell_type": "markdown",
   "id": "4cdb3583",
   "metadata": {},
   "source": [
    "### cars.shape"
   ]
  },
  {
   "cell_type": "code",
   "execution_count": 9,
   "id": "ce70945e",
   "metadata": {},
   "outputs": [
    {
     "data": {
      "image/png": "[encoded data removed]",
      "text/plain": [
       "<Figure size 2016x288 with 7 Axes>"
      ]
     },
     "metadata": {
      "needs_background": "light"
     },
     "output_type": "display_data"
    }
   ],
   "source": [
    "sns.pairplot(cars, x_vars=['Year', 'Present_Price', 'Selling_Price', 'Fuel_Type', 'Seller_Type', 'Transmission', 'Owner'], y_vars='Kms_Driven', height=4, aspect=1, kind='scatter')\n",
    "plt.show()"
   ]
  },
  {
   "cell_type": "markdown",
   "id": "71d578aa",
   "metadata": {},
   "source": [
    "### Kms_Driven"
   ]
  },
  {
   "cell_type": "code",
   "execution_count": 10,
   "id": "9a972b39",
   "metadata": {},
   "outputs": [
    {
     "data": {
      "text/plain": [
       "32000.0"
      ]
     },
     "execution_count": 10,
     "metadata": {},
     "output_type": "execute_result"
    }
   ],
   "source": [
    "median = np.median(cars.Kms_Driven)\n",
    "median"
   ]
  },
  {
   "cell_type": "code",
   "execution_count": 11,
   "id": "a60664b6",
   "metadata": {},
   "outputs": [
    {
     "data": {
      "text/plain": [
       "48767.0"
      ]
     },
     "execution_count": 11,
     "metadata": {},
     "output_type": "execute_result"
    }
   ],
   "source": [
    "upper_quartile = np.percentile(cars.Kms_Driven, 75)\n",
    "upper_quartile"
   ]
  },
  {
   "cell_type": "code",
   "execution_count": 12,
   "id": "bb770907",
   "metadata": {},
   "outputs": [
    {
     "data": {
      "text/plain": [
       "15000.0"
      ]
     },
     "execution_count": 12,
     "metadata": {},
     "output_type": "execute_result"
    }
   ],
   "source": [
    "lower_quartile = np.percentile(cars.Kms_Driven, 25)\n",
    "lower_quartile"
   ]
  },
  {
   "cell_type": "code",
   "execution_count": 13,
   "id": "e9255358",
   "metadata": {},
   "outputs": [
    {
     "data": {
      "text/plain": [
       "33767.0"
      ]
     },
     "execution_count": 13,
     "metadata": {},
     "output_type": "execute_result"
    }
   ],
   "source": [
    "iqr = upper_quartile - lower_quartile\n",
    "iqr"
   ]
  },
  {
   "cell_type": "code",
   "execution_count": 14,
   "id": "5b09659a",
   "metadata": {},
   "outputs": [
    {
     "data": {
      "text/plain": [
       "92233"
      ]
     },
     "execution_count": 14,
     "metadata": {},
     "output_type": "execute_result"
    }
   ],
   "source": [
    "upper_whisker = cars.Kms_Driven[cars.Kms_Driven<=upper_quartile+1.5*iqr].max()\n",
    "upper_whisker"
   ]
  },
  {
   "cell_type": "code",
   "execution_count": 15,
   "id": "1e002817",
   "metadata": {},
   "outputs": [
    {
     "data": {
      "text/plain": [
       "500"
      ]
     },
     "execution_count": 15,
     "metadata": {},
     "output_type": "execute_result"
    }
   ],
   "source": [
    "lower_whisker = cars.Kms_Driven[cars.Kms_Driven>=lower_quartile-1.5*iqr].min()\n",
    "lower_whisker"
   ]
  },
  {
   "cell_type": "code",
   "execution_count": 16,
   "id": "ff9bc241",
   "metadata": {},
   "outputs": [],
   "source": [
    "cars.Kms_Driven = np.where(cars.Kms_Driven>upper_whisker, upper_whisker, cars.Kms_Driven)"
   ]
  },
  {
   "cell_type": "code",
   "execution_count": 17,
   "id": "7711ad09",
   "metadata": {},
   "outputs": [
    {
     "data": {
      "text/plain": [
       "<AxesSubplot:>"
      ]
     },
     "execution_count": 17,
     "metadata": {},
     "output_type": "execute_result"
    },
    {
     "data": {
      "image/png": "[encoded data removed]",
      "text/plain": [
       "<Figure size 432x288 with 1 Axes>"
      ]
     },
     "metadata": {
      "needs_background": "light"
     },
     "output_type": "display_data"
    }
   ],
   "source": [
    "props2 = dict(boxes = 'red', whiskers = 'green', medians= 'orange', caps = 'cyan')\n",
    "cars['Kms_Driven'].plot.box(color=props2, patch_artist = True, vert = False)"
   ]
  },
  {
   "cell_type": "code",
   "execution_count": 18,
   "id": "99e66b44",
   "metadata": {},
   "outputs": [
    {
     "data": {
      "text/plain": [
       "Text(0.5, 1.0, 'Barplot of Kms_Driven')"
      ]
     },
     "execution_count": 18,
     "metadata": {},
     "output_type": "execute_result"
    },
    {
     "data": {
      "image/png": "[encoded data removed]",
      "text/plain": [
       "<Figure size 432x288 with 1 Axes>"
      ]
     },
     "metadata": {
      "needs_background": "light"
     },
     "output_type": "display_data"
    }
   ],
   "source": [
    "sns.countplot(x = 'Kms_Driven', data = cars, palette = 'GnBu')\n",
    "plt.title('Barplot of Kms_Driven')"
   ]
  },
  {
   "cell_type": "code",
   "execution_count": 19,
   "id": "2212f218",
   "metadata": {},
   "outputs": [
    {
     "name": "stdout",
     "output_type": "stream",
     "text": [
      "Ttest_relResult(statistic=24.06877271411012, pvalue=5.012888345050829e-72)\n"
     ]
    }
   ],
   "source": [
    "pairedsam =scipy.stats.ttest_rel(cars.Kms_Driven,cars.Year)\n",
    "print(pairedsam)"
   ]
  },
  {
   "cell_type": "markdown",
   "id": "0c5e329f",
   "metadata": {},
   "source": [
    "## Year"
   ]
  },
  {
   "cell_type": "code",
   "execution_count": 20,
   "id": "77572729",
   "metadata": {},
   "outputs": [
    {
     "data": {
      "text/plain": [
       "2015    61\n",
       "2016    50\n",
       "2014    38\n",
       "2017    35\n",
       "2013    33\n",
       "2012    23\n",
       "2011    19\n",
       "2010    15\n",
       "2008     7\n",
       "2009     6\n",
       "2006     4\n",
       "2005     4\n",
       "2003     2\n",
       "2007     2\n",
       "2018     1\n",
       "2004     1\n",
       "Name: Year, dtype: int64"
      ]
     },
     "execution_count": 20,
     "metadata": {},
     "output_type": "execute_result"
    }
   ],
   "source": [
    "cars.Year.value_counts()"
   ]
  },
  {
   "cell_type": "code",
   "execution_count": 21,
   "id": "0ba3da03",
   "metadata": {},
   "outputs": [
    {
     "name": "stdout",
     "output_type": "stream",
     "text": [
      "               df       sum_sq      mean_sq           F        PR(>F)\n",
      "Kms_Driven    1.0  1018.808675  1018.808675  204.511807  1.046408e-35\n",
      "Residual    299.0  1489.516906     4.981662         NaN           NaN\n"
     ]
    }
   ],
   "source": [
    "mod = ols('Year ~Kms_Driven', data = cars).fit()\n",
    "aov_table = sm.stats.anova_lm(mod)\n",
    "print(aov_table)"
   ]
  },
  {
   "cell_type": "code",
   "execution_count": 22,
   "id": "2e6092d5",
   "metadata": {},
   "outputs": [
    {
     "data": {
      "text/plain": [
       "Text(0.5, 1.0, 'Barplot of Year')"
      ]
     },
     "execution_count": 22,
     "metadata": {},
     "output_type": "execute_result"
    },
    {
     "data": {
      "image/png": "[encoded data removed]",
      "text/plain": [
       "<Figure size 432x288 with 1 Axes>"
      ]
     },
     "metadata": {
      "needs_background": "light"
     },
     "output_type": "display_data"
    }
   ],
   "source": [
    "sns.countplot(x = 'Year', data = cars, palette = 'hot_r')\n",
    "plt.title('Barplot of Year')"
   ]
  },
  {
   "cell_type": "markdown",
   "id": "8b7fd6d7",
   "metadata": {},
   "source": [
    "## Selling_Price"
   ]
  },
  {
   "cell_type": "code",
   "execution_count": 23,
   "id": "08a35ec9",
   "metadata": {},
   "outputs": [
    {
     "data": {
      "text/plain": [
       "3.6"
      ]
     },
     "execution_count": 23,
     "metadata": {},
     "output_type": "execute_result"
    }
   ],
   "source": [
    "median = np.median(cars.Selling_Price)\n",
    "median"
   ]
  },
  {
   "cell_type": "code",
   "execution_count": 24,
   "id": "26d30ab1",
   "metadata": {},
   "outputs": [
    {
     "data": {
      "text/plain": [
       "6.0"
      ]
     },
     "execution_count": 24,
     "metadata": {},
     "output_type": "execute_result"
    }
   ],
   "source": [
    "upper_quartile = np.percentile(cars.Selling_Price, 75)\n",
    "upper_quartile"
   ]
  },
  {
   "cell_type": "code",
   "execution_count": 25,
   "id": "60de0638",
   "metadata": {},
   "outputs": [
    {
     "data": {
      "text/plain": [
       "0.9"
      ]
     },
     "execution_count": 25,
     "metadata": {},
     "output_type": "execute_result"
    }
   ],
   "source": [
    "lower_quartile = np.percentile(cars.Selling_Price, 25)\n",
    "lower_quartile"
   ]
  },
  {
   "cell_type": "code",
   "execution_count": 26,
   "id": "ec7001bf",
   "metadata": {},
   "outputs": [
    {
     "data": {
      "text/plain": [
       "5.1"
      ]
     },
     "execution_count": 26,
     "metadata": {},
     "output_type": "execute_result"
    }
   ],
   "source": [
    "iqr = upper_quartile - lower_quartile\n",
    "iqr"
   ]
  },
  {
   "cell_type": "code",
   "execution_count": 27,
   "id": "dc7178ee",
   "metadata": {},
   "outputs": [
    {
     "data": {
      "text/plain": [
       "12.9"
      ]
     },
     "execution_count": 27,
     "metadata": {},
     "output_type": "execute_result"
    }
   ],
   "source": [
    "upper_whisker = cars.Selling_Price[cars.Selling_Price<=upper_quartile+1.5*iqr].max()\n",
    "upper_whisker"
   ]
  },
  {
   "cell_type": "code",
   "execution_count": 28,
   "id": "bf532115",
   "metadata": {},
   "outputs": [
    {
     "data": {
      "text/plain": [
       "0.1"
      ]
     },
     "execution_count": 28,
     "metadata": {},
     "output_type": "execute_result"
    }
   ],
   "source": [
    "lower_whisker = cars.Selling_Price[cars.Selling_Price>=lower_quartile-1.5*iqr].min()\n",
    "lower_whisker"
   ]
  },
  {
   "cell_type": "code",
   "execution_count": 29,
   "id": "7fe48c43",
   "metadata": {},
   "outputs": [
    {
     "data": {
      "text/plain": [
       "Text(0.5, 1.0, 'Barplot of Present_Price')"
      ]
     },
     "execution_count": 29,
     "metadata": {},
     "output_type": "execute_result"
    },
    {
     "data": {
      "image/png": "[encoded data removed]",
      "text/plain": [
       "<Figure size 432x288 with 1 Axes>"
      ]
     },
     "metadata": {
      "needs_background": "light"
     },
     "output_type": "display_data"
    }
   ],
   "source": [
    "sns.countplot(x = 'Selling_Price', data = cars, palette = 'rainbow')\n",
    "plt.title('Barplot of Present_Price')"
   ]
  },
  {
   "cell_type": "code",
   "execution_count": 30,
   "id": "ba437061",
   "metadata": {},
   "outputs": [],
   "source": [
    "cars.Selling_Price = np.where(cars.Selling_Price>upper_whisker, upper_whisker, cars.Selling_Price)"
   ]
  },
  {
   "cell_type": "code",
   "execution_count": 31,
   "id": "97fccb30",
   "metadata": {},
   "outputs": [
    {
     "data": {
      "text/plain": [
       "<AxesSubplot:>"
      ]
     },
     "execution_count": 31,
     "metadata": {},
     "output_type": "execute_result"
    },
    {
     "data": {
      "image/png": "[encoded data removed]",
      "text/plain": [
       "<Figure size 432x288 with 1 Axes>"
      ]
     },
     "metadata": {
      "needs_background": "light"
     },
     "output_type": "display_data"
    }
   ],
   "source": [
    "props2 = dict(boxes = 'red', whiskers = 'green', medians= 'orange', caps = 'cyan')\n",
    "cars['Selling_Price'].plot.box(color=props2, patch_artist = True, vert = False)"
   ]
  },
  {
   "cell_type": "code",
   "execution_count": 32,
   "id": "360495e5",
   "metadata": {},
   "outputs": [
    {
     "name": "stdout",
     "output_type": "stream",
     "text": [
      "Ttest_relResult(statistic=25.572275169904373, pvalue=2.42267468286155e-77)\n"
     ]
    }
   ],
   "source": [
    "pairedsam =scipy.stats.ttest_rel(cars.Kms_Driven,cars.Selling_Price)\n",
    "print(pairedsam)"
   ]
  },
  {
   "cell_type": "markdown",
   "id": "bf050e32",
   "metadata": {},
   "source": [
    "### Present_Price"
   ]
  },
  {
   "cell_type": "code",
   "execution_count": 33,
   "id": "0e8b49c8",
   "metadata": {},
   "outputs": [
    {
     "data": {
      "text/plain": [
       "6.4"
      ]
     },
     "execution_count": 33,
     "metadata": {},
     "output_type": "execute_result"
    }
   ],
   "source": [
    "median = np.median(cars.Present_Price)\n",
    "median"
   ]
  },
  {
   "cell_type": "code",
   "execution_count": 34,
   "id": "2c9b27af",
   "metadata": {},
   "outputs": [
    {
     "data": {
      "text/plain": [
       "9.9"
      ]
     },
     "execution_count": 34,
     "metadata": {},
     "output_type": "execute_result"
    }
   ],
   "source": [
    "upper_quartile = np.percentile(cars.Present_Price, 75)\n",
    "upper_quartile"
   ]
  },
  {
   "cell_type": "code",
   "execution_count": 35,
   "id": "a5af15e3",
   "metadata": {},
   "outputs": [
    {
     "data": {
      "text/plain": [
       "1.2"
      ]
     },
     "execution_count": 35,
     "metadata": {},
     "output_type": "execute_result"
    }
   ],
   "source": [
    "lower_quartile = np.percentile(cars.Present_Price, 25)\n",
    "lower_quartile"
   ]
  },
  {
   "cell_type": "code",
   "execution_count": 36,
   "id": "148f1a01",
   "metadata": {},
   "outputs": [
    {
     "data": {
      "text/plain": [
       "8.700000000000001"
      ]
     },
     "execution_count": 36,
     "metadata": {},
     "output_type": "execute_result"
    }
   ],
   "source": [
    "iqr = upper_quartile - lower_quartile\n",
    "iqr"
   ]
  },
  {
   "cell_type": "code",
   "execution_count": 37,
   "id": "8cf4566e",
   "metadata": {},
   "outputs": [
    {
     "data": {
      "text/plain": [
       "22.83"
      ]
     },
     "execution_count": 37,
     "metadata": {},
     "output_type": "execute_result"
    }
   ],
   "source": [
    "upper_whisker = cars.Present_Price[cars.Present_Price<=upper_quartile+1.5*iqr].max()\n",
    "upper_whisker"
   ]
  },
  {
   "cell_type": "code",
   "execution_count": 38,
   "id": "a5bcbe5e",
   "metadata": {},
   "outputs": [
    {
     "data": {
      "text/plain": [
       "0.32"
      ]
     },
     "execution_count": 38,
     "metadata": {},
     "output_type": "execute_result"
    }
   ],
   "source": [
    "lower_whisker = cars.Present_Price[cars.Present_Price>=lower_quartile-1.5*iqr].min()\n",
    "lower_whisker"
   ]
  },
  {
   "cell_type": "code",
   "execution_count": 39,
   "id": "66db4f97",
   "metadata": {},
   "outputs": [
    {
     "data": {
      "text/plain": [
       "Text(0.5, 1.0, 'Barplot of Present_Price')"
      ]
     },
     "execution_count": 39,
     "metadata": {},
     "output_type": "execute_result"
    },
    {
     "data": {
      "image/png": "[encoded data removed]",
      "text/plain": [
       "<Figure size 432x288 with 1 Axes>"
      ]
     },
     "metadata": {
      "needs_background": "light"
     },
     "output_type": "display_data"
    }
   ],
   "source": [
    "sns.countplot(x = 'Present_Price', data = cars, palette = 'viridis')\n",
    "plt.title('Barplot of Present_Price')"
   ]
  },
  {
   "cell_type": "code",
   "execution_count": 40,
   "id": "dc7ad6c8",
   "metadata": {},
   "outputs": [],
   "source": [
    "cars.Present_Price = np.where(cars.Present_Price>upper_whisker, upper_whisker, cars.Present_Price)"
   ]
  },
  {
   "cell_type": "code",
   "execution_count": 41,
   "id": "90875c54",
   "metadata": {},
   "outputs": [
    {
     "data": {
      "text/plain": [
       "<AxesSubplot:>"
      ]
     },
     "execution_count": 41,
     "metadata": {},
     "output_type": "execute_result"
    },
    {
     "data": {
      "image/png": "[encoded data removed]",
      "text/plain": [
       "<Figure size 432x288 with 1 Axes>"
      ]
     },
     "metadata": {
      "needs_background": "light"
     },
     "output_type": "display_data"
    }
   ],
   "source": [
    "props2 = dict(boxes = 'red', whiskers = 'green', medians= 'orange', caps = 'cyan')\n",
    "cars['Present_Price'].plot.box(color=props2, patch_artist = True, vert = False)"
   ]
  },
  {
   "cell_type": "code",
   "execution_count": 42,
   "id": "91b2d14e",
   "metadata": {},
   "outputs": [
    {
     "name": "stdout",
     "output_type": "stream",
     "text": [
      "Ttest_relResult(statistic=25.57225796429812, pvalue=2.423010437075592e-77)\n"
     ]
    }
   ],
   "source": [
    "pairedsam =scipy.stats.ttest_rel(cars.Kms_Driven,cars.Present_Price)\n",
    "print(pairedsam)"
   ]
  },
  {
   "cell_type": "markdown",
   "id": "c415fc0b",
   "metadata": {},
   "source": [
    "## Owner"
   ]
  },
  {
   "cell_type": "code",
   "execution_count": 43,
   "id": "f2e9a747",
   "metadata": {},
   "outputs": [
    {
     "data": {
      "text/plain": [
       "0    290\n",
       "1     10\n",
       "3      1\n",
       "Name: Owner, dtype: int64"
      ]
     },
     "execution_count": 43,
     "metadata": {},
     "output_type": "execute_result"
    }
   ],
   "source": [
    "cars.Owner.value_counts()"
   ]
  },
  {
   "cell_type": "code",
   "execution_count": 44,
   "id": "c54b585a",
   "metadata": {},
   "outputs": [
    {
     "name": "stdout",
     "output_type": "stream",
     "text": [
      "               df     sum_sq   mean_sq         F    PR(>F)\n",
      "Kms_Driven    1.0   0.128110  0.128110  2.091972  0.149122\n",
      "Residual    299.0  18.310428  0.061239       NaN       NaN\n"
     ]
    }
   ],
   "source": [
    "mod = ols('Owner ~Kms_Driven', data = cars).fit()\n",
    "aov_table = sm.stats.anova_lm(mod)\n",
    "print(aov_table)"
   ]
  },
  {
   "cell_type": "markdown",
   "id": "11b9ac01",
   "metadata": {},
   "source": [
    "## Fuel_Type"
   ]
  },
  {
   "cell_type": "code",
   "execution_count": 45,
   "id": "da771b91",
   "metadata": {},
   "outputs": [
    {
     "data": {
      "text/plain": [
       "Petrol    239\n",
       "Diesel     60\n",
       "CNG         2\n",
       "Name: Fuel_Type, dtype: int64"
      ]
     },
     "execution_count": 45,
     "metadata": {},
     "output_type": "execute_result"
    }
   ],
   "source": [
    "cars.Fuel_Type.value_counts()"
   ]
  },
  {
   "cell_type": "code",
   "execution_count": 46,
   "id": "bf8e9699",
   "metadata": {},
   "outputs": [
    {
     "name": "stdout",
     "output_type": "stream",
     "text": [
      "              df        sum_sq       mean_sq          F    PR(>F)\n",
      "Fuel_Type    2.0  1.386964e+10  6.934820e+09  13.968574  0.000002\n",
      "Residual   298.0  1.479447e+11  4.964587e+08        NaN       NaN\n"
     ]
    }
   ],
   "source": [
    "mod = ols('Kms_Driven ~Fuel_Type', data = cars).fit()\n",
    "aov_table = sm.stats.anova_lm(mod)\n",
    "print(aov_table)"
   ]
  },
  {
   "cell_type": "code",
   "execution_count": 47,
   "id": "603f08bf",
   "metadata": {},
   "outputs": [
    {
     "data": {
      "text/plain": [
       "Text(0.5, 1.0, 'Barplot of Fuel_Type')"
      ]
     },
     "execution_count": 47,
     "metadata": {},
     "output_type": "execute_result"
    },
    {
     "data": {
      "image/png": "[encoded data removed]",
      "text/plain": [
       "<Figure size 432x288 with 1 Axes>"
      ]
     },
     "metadata": {
      "needs_background": "light"
     },
     "output_type": "display_data"
    }
   ],
   "source": [
    "sns.countplot(x = 'Fuel_Type', data = cars, palette = 'viridis')\n",
    "plt.title('Barplot of Fuel_Type')"
   ]
  },
  {
   "cell_type": "markdown",
   "id": "8181ecd4",
   "metadata": {},
   "source": [
    "## Seller_Type"
   ]
  },
  {
   "cell_type": "code",
   "execution_count": 48,
   "id": "a0ab5c3a",
   "metadata": {},
   "outputs": [
    {
     "data": {
      "text/plain": [
       "Dealer        195\n",
       "Individual    106\n",
       "Name: Seller_Type, dtype: int64"
      ]
     },
     "execution_count": 48,
     "metadata": {},
     "output_type": "execute_result"
    }
   ],
   "source": [
    "cars.Seller_Type.value_counts()"
   ]
  },
  {
   "cell_type": "code",
   "execution_count": 49,
   "id": "d3169c8d",
   "metadata": {},
   "outputs": [
    {
     "name": "stdout",
     "output_type": "stream",
     "text": [
      "                df        sum_sq       mean_sq          F        PR(>F)\n",
      "Seller_Type    1.0  1.271653e+10  1.271653e+10  25.501667  7.699247e-07\n",
      "Residual     299.0  1.490978e+11  4.986549e+08        NaN           NaN\n"
     ]
    }
   ],
   "source": [
    "mod = ols('Kms_Driven ~Seller_Type', data = cars).fit()\n",
    "aov_table = sm.stats.anova_lm(mod)\n",
    "print(aov_table)"
   ]
  },
  {
   "cell_type": "code",
   "execution_count": 50,
   "id": "8ed53fd7",
   "metadata": {},
   "outputs": [
    {
     "data": {
      "text/plain": [
       "Text(0.5, 1.0, 'Barplot of Seller_Type')"
      ]
     },
     "execution_count": 50,
     "metadata": {},
     "output_type": "execute_result"
    },
    {
     "data": {
      "image/png": "[encoded data removed]",
      "text/plain": [
       "<Figure size 432x288 with 1 Axes>"
      ]
     },
     "metadata": {
      "needs_background": "light"
     },
     "output_type": "display_data"
    }
   ],
   "source": [
    "sns.countplot(x = 'Seller_Type', data = cars, palette = 'PiYG')\n",
    "plt.title('Barplot of Seller_Type')"
   ]
  },
  {
   "cell_type": "markdown",
   "id": "ed3b12ac",
   "metadata": {},
   "source": [
    "## Transmission "
   ]
  },
  {
   "cell_type": "code",
   "execution_count": 51,
   "id": "046a6268",
   "metadata": {},
   "outputs": [
    {
     "data": {
      "text/plain": [
       "Manual       261\n",
       "Automatic     40\n",
       "Name: Transmission, dtype: int64"
      ]
     },
     "execution_count": 51,
     "metadata": {},
     "output_type": "execute_result"
    }
   ],
   "source": [
    "cars.Transmission.value_counts()"
   ]
  },
  {
   "cell_type": "code",
   "execution_count": 52,
   "id": "7ce7d7b1",
   "metadata": {},
   "outputs": [
    {
     "name": "stdout",
     "output_type": "stream",
     "text": [
      "                 df        sum_sq       mean_sq         F    PR(>F)\n",
      "Transmission    1.0  1.123425e+09  1.123425e+09  2.090373  0.149277\n",
      "Residual      299.0  1.606909e+11  5.374278e+08       NaN       NaN\n"
     ]
    }
   ],
   "source": [
    "mod = ols('Kms_Driven ~Transmission', data = cars).fit()\n",
    "aov_table = sm.stats.anova_lm(mod)\n",
    "print(aov_table)"
   ]
  },
  {
   "cell_type": "markdown",
   "id": "1501ec2a",
   "metadata": {},
   "source": [
    "## Drop"
   ]
  },
  {
   "cell_type": "code",
   "execution_count": 53,
   "id": "9ed73992",
   "metadata": {},
   "outputs": [],
   "source": [
    "cars = cars.drop(['Transmission', 'Owner', 'Car_Name'], axis = 1)"
   ]
  },
  {
   "cell_type": "markdown",
   "id": "ecc506d4",
   "metadata": {},
   "source": [
    "## Vif"
   ]
  },
  {
   "cell_type": "code",
   "execution_count": 54,
   "id": "5de2397d",
   "metadata": {},
   "outputs": [],
   "source": [
    "x = df.iloc[:, [2,3]]"
   ]
  },
  {
   "cell_type": "code",
   "execution_count": 55,
   "id": "add55025",
   "metadata": {},
   "outputs": [],
   "source": [
    "vif_data = pd.DataFrame()\n",
    "vif_data[\"features\"] = x.columns"
   ]
  },
  {
   "cell_type": "code",
   "execution_count": 56,
   "id": "46e42d47",
   "metadata": {},
   "outputs": [],
   "source": [
    "vif_data[\"VIF\"] = [variance_inflation_factor(x.values, i)\n",
    "                           for i in range(len(x.columns))]"
   ]
  },
  {
   "cell_type": "code",
   "execution_count": 57,
   "id": "ced26964",
   "metadata": {},
   "outputs": [
    {
     "name": "stdout",
     "output_type": "stream",
     "text": [
      "        features       VIF\n",
      "0  Selling_Price  9.138486\n",
      "1  Present_Price  9.138486\n"
     ]
    }
   ],
   "source": [
    "print(vif_data)\n",
    "                 "
   ]
  },
  {
   "cell_type": "markdown",
   "id": "1f8928a3",
   "metadata": {},
   "source": [
    "## Corelation"
   ]
  },
  {
   "cell_type": "code",
   "execution_count": 58,
   "id": "e991b05b",
   "metadata": {},
   "outputs": [],
   "source": [
    "countinue_column = cars.select_dtypes(include= 'number')"
   ]
  },
  {
   "cell_type": "code",
   "execution_count": 59,
   "id": "602fa55b",
   "metadata": {},
   "outputs": [
    {
     "name": "stdout",
     "output_type": "stream",
     "text": [
      "     Year  Selling_Price  Present_Price  Kms_Driven\n",
      "0    2014           3.35           5.59       27000\n",
      "1    2013           4.75           9.54       43000\n",
      "2    2017           7.25           9.85        6900\n",
      "3    2011           2.85           4.15        5200\n",
      "4    2014           4.60           6.87       42450\n",
      "..    ...            ...            ...         ...\n",
      "296  2016           9.50          11.60       33988\n",
      "297  2015           4.00           5.90       60000\n",
      "298  2009           3.35          11.00       87934\n",
      "299  2017          11.50          12.50        9000\n",
      "300  2016           5.30           5.90        5464\n",
      "\n",
      "[301 rows x 4 columns]\n"
     ]
    }
   ],
   "source": [
    "print(countinue_column)"
   ]
  },
  {
   "cell_type": "code",
   "execution_count": 60,
   "id": "5b4f8262",
   "metadata": {},
   "outputs": [
    {
     "name": "stdout",
     "output_type": "stream",
     "text": [
      "<class 'pandas.core.frame.DataFrame'>\n",
      "RangeIndex: 301 entries, 0 to 300\n",
      "Data columns (total 4 columns):\n",
      " #   Column         Non-Null Count  Dtype  \n",
      "---  ------         --------------  -----  \n",
      " 0   Year           301 non-null    int64  \n",
      " 1   Selling_Price  301 non-null    float64\n",
      " 2   Present_Price  301 non-null    float64\n",
      " 3   Kms_Driven     301 non-null    int64  \n",
      "dtypes: float64(2), int64(2)\n",
      "memory usage: 9.5 KB\n"
     ]
    }
   ],
   "source": [
    "countinue_column.info()"
   ]
  },
  {
   "cell_type": "code",
   "execution_count": 61,
   "id": "3f1575e0",
   "metadata": {},
   "outputs": [
    {
     "data": {
      "text/html": [
       "<div>\n",
       "<style scoped>\n",
       "    .dataframe tbody tr th:only-of-type {\n",
       "        vertical-align: middle;\n",
       "    }\n",
       "\n",
       "    .dataframe tbody tr th {\n",
       "        vertical-align: top;\n",
       "    }\n",
       "\n",
       "    .dataframe thead th {\n",
       "        text-align: right;\n",
       "    }\n",
       "</style>\n",
       "<table border=\"1\" class=\"dataframe\">\n",
       "  <thead>\n",
       "    <tr style=\"text-align: right;\">\n",
       "      <th></th>\n",
       "      <th>Year</th>\n",
       "      <th>Selling_Price</th>\n",
       "      <th>Present_Price</th>\n",
       "      <th>Kms_Driven</th>\n",
       "    </tr>\n",
       "  </thead>\n",
       "  <tbody>\n",
       "    <tr>\n",
       "      <th>Year</th>\n",
       "      <td>1.000000</td>\n",
       "      <td>0.284571</td>\n",
       "      <td>-0.033135</td>\n",
       "      <td>-0.637315</td>\n",
       "    </tr>\n",
       "    <tr>\n",
       "      <th>Selling_Price</th>\n",
       "      <td>0.284571</td>\n",
       "      <td>1.000000</td>\n",
       "      <td>0.868346</td>\n",
       "      <td>0.129921</td>\n",
       "    </tr>\n",
       "    <tr>\n",
       "      <th>Present_Price</th>\n",
       "      <td>-0.033135</td>\n",
       "      <td>0.868346</td>\n",
       "      <td>1.000000</td>\n",
       "      <td>0.388070</td>\n",
       "    </tr>\n",
       "    <tr>\n",
       "      <th>Kms_Driven</th>\n",
       "      <td>-0.637315</td>\n",
       "      <td>0.129921</td>\n",
       "      <td>0.388070</td>\n",
       "      <td>1.000000</td>\n",
       "    </tr>\n",
       "  </tbody>\n",
       "</table>\n",
       "</div>"
      ],
      "text/plain": [
       "                   Year  Selling_Price  Present_Price  Kms_Driven\n",
       "Year           1.000000       0.284571      -0.033135   -0.637315\n",
       "Selling_Price  0.284571       1.000000       0.868346    0.129921\n",
       "Present_Price -0.033135       0.868346       1.000000    0.388070\n",
       "Kms_Driven    -0.637315       0.129921       0.388070    1.000000"
      ]
     },
     "execution_count": 61,
     "metadata": {},
     "output_type": "execute_result"
    }
   ],
   "source": [
    "countinue_column.corr()"
   ]
  },
  {
   "cell_type": "code",
   "execution_count": 62,
   "id": "8ce31302",
   "metadata": {},
   "outputs": [
    {
     "data": {
      "text/plain": [
       "<AxesSubplot:>"
      ]
     },
     "execution_count": 62,
     "metadata": {},
     "output_type": "execute_result"
    },
    {
     "data": {
      "image/png": "[encoded data removed]",
      "text/plain": [
       "<Figure size 720x720 with 2 Axes>"
      ]
     },
     "metadata": {
      "needs_background": "light"
     },
     "output_type": "display_data"
    }
   ],
   "source": [
    "plt.figure(figsize=(10,10))\n",
    "sns.heatmap(countinue_column.corr(), annot=True, vmin= -1, vmax=1, cmap = 'BrBG')"
   ]
  },
  {
   "cell_type": "code",
   "execution_count": 63,
   "id": "130c3cff",
   "metadata": {},
   "outputs": [],
   "source": [
    "model = smf.ols(formula='Kms_Driven~ Year + Selling_Price + Present_Price', data=cars).fit()"
   ]
  },
  {
   "cell_type": "code",
   "execution_count": 64,
   "id": "70f27c26",
   "metadata": {},
   "outputs": [
    {
     "name": "stdout",
     "output_type": "stream",
     "text": [
      "                            OLS Regression Results                            \n",
      "==============================================================================\n",
      "Dep. Variable:             Kms_Driven   R-squared:                       0.542\n",
      "Model:                            OLS   Adj. R-squared:                  0.537\n",
      "Method:                 Least Squares   F-statistic:                     117.1\n",
      "Date:                Wed, 04 Jan 2023   Prob (F-statistic):           4.69e-50\n",
      "Time:                        22:59:58   Log-Likelihood:                -3335.1\n",
      "No. Observations:                 301   AIC:                             6678.\n",
      "Df Residuals:                     297   BIC:                             6693.\n",
      "Df Model:                           3                                         \n",
      "Covariance Type:            nonrobust                                         \n",
      "=================================================================================\n",
      "                    coef    std err          t      P>|t|      [0.025      0.975]\n",
      "---------------------------------------------------------------------------------\n",
      "Intercept      9.751e+06    8.2e+05     11.891      0.000    8.14e+06    1.14e+07\n",
      "Year          -4830.4442    407.358    -11.858      0.000   -5632.117   -4028.771\n",
      "Selling_Price  -481.9736    651.086     -0.740      0.460   -1763.301     799.354\n",
      "Present_Price  1638.8398    370.324      4.425      0.000     910.048    2367.631\n",
      "==============================================================================\n",
      "Omnibus:                        8.195   Durbin-Watson:                   1.901\n",
      "Prob(Omnibus):                  0.017   Jarque-Bera (JB):                8.203\n",
      "Skew:                           0.348   Prob(JB):                       0.0166\n",
      "Kurtosis:                       3.411   Cond. No.                     1.81e+06\n",
      "==============================================================================\n",
      "\n",
      "Notes:\n",
      "[1] Standard Errors assume that the covariance matrix of the errors is correctly specified.\n",
      "[2] The condition number is large, 1.81e+06. This might indicate that there are\n",
      "strong multicollinearity or other numerical problems.\n"
     ]
    }
   ],
   "source": [
    "print(model.summary())"
   ]
  },
  {
   "cell_type": "code",
   "execution_count": 65,
   "id": "f89e9991",
   "metadata": {},
   "outputs": [],
   "source": [
    "cars.drop(columns= ['Selling_Price'], axis= 1, inplace= True)"
   ]
  },
  {
   "cell_type": "code",
   "execution_count": 66,
   "id": "4a178b8f",
   "metadata": {},
   "outputs": [],
   "source": [
    "model2 = smf.ols(formula='Kms_Driven~ Year + Present_Price', data=cars).fit()"
   ]
  },
  {
   "cell_type": "code",
   "execution_count": 67,
   "id": "e829ef6f",
   "metadata": {},
   "outputs": [
    {
     "name": "stdout",
     "output_type": "stream",
     "text": [
      "                            OLS Regression Results                            \n",
      "==============================================================================\n",
      "Dep. Variable:             Kms_Driven   R-squared:                       0.541\n",
      "Model:                            OLS   Adj. R-squared:                  0.538\n",
      "Method:                 Least Squares   F-statistic:                     175.6\n",
      "Date:                Wed, 04 Jan 2023   Prob (F-statistic):           4.11e-51\n",
      "Time:                        23:00:00   Log-Likelihood:                -3335.4\n",
      "No. Observations:                 301   AIC:                             6677.\n",
      "Df Residuals:                     298   BIC:                             6688.\n",
      "Df Model:                           2                                         \n",
      "Covariance Type:            nonrobust                                         \n",
      "=================================================================================\n",
      "                    coef    std err          t      P>|t|      [0.025      0.975]\n",
      "---------------------------------------------------------------------------------\n",
      "Intercept      1.013e+07   6.35e+05     15.957      0.000    8.89e+06    1.14e+07\n",
      "Year          -5021.0667    315.403    -15.920      0.000   -5641.766   -4400.367\n",
      "Present_Price  1387.6939    148.339      9.355      0.000    1095.769    1679.619\n",
      "==============================================================================\n",
      "Omnibus:                        7.342   Durbin-Watson:                   1.907\n",
      "Prob(Omnibus):                  0.025   Jarque-Bera (JB):                7.316\n",
      "Skew:                           0.320   Prob(JB):                       0.0258\n",
      "Kurtosis:                       3.416   Cond. No.                     1.41e+06\n",
      "==============================================================================\n",
      "\n",
      "Notes:\n",
      "[1] Standard Errors assume that the covariance matrix of the errors is correctly specified.\n",
      "[2] The condition number is large, 1.41e+06. This might indicate that there are\n",
      "strong multicollinearity or other numerical problems.\n"
     ]
    }
   ],
   "source": [
    "print(model2.summary())"
   ]
  },
  {
   "cell_type": "code",
   "execution_count": 73,
   "id": "eee615f4",
   "metadata": {},
   "outputs": [],
   "source": [
    "trn = cars.iloc[0:225]\n",
    "tst = cars.iloc[225:301]"
   ]
  },
  {
   "cell_type": "code",
   "execution_count": 76,
   "id": "937f8a8b",
   "metadata": {},
   "outputs": [],
   "source": [
    "model3 = smf.ols(formula='Kms_Driven~ Year + Present_Price', data=trn).fit()"
   ]
  },
  {
   "cell_type": "code",
   "execution_count": 77,
   "id": "83504490",
   "metadata": {},
   "outputs": [
    {
     "name": "stdout",
     "output_type": "stream",
     "text": [
      "                            OLS Regression Results                            \n",
      "==============================================================================\n",
      "Dep. Variable:             Kms_Driven   R-squared:                       0.561\n",
      "Model:                            OLS   Adj. R-squared:                  0.557\n",
      "Method:                 Least Squares   F-statistic:                     141.7\n",
      "Date:                Wed, 04 Jan 2023   Prob (F-statistic):           2.24e-40\n",
      "Time:                        23:09:57   Log-Likelihood:                -2499.4\n",
      "No. Observations:                 225   AIC:                             5005.\n",
      "Df Residuals:                     222   BIC:                             5015.\n",
      "Df Model:                           2                                         \n",
      "Covariance Type:            nonrobust                                         \n",
      "=================================================================================\n",
      "                    coef    std err          t      P>|t|      [0.025      0.975]\n",
      "---------------------------------------------------------------------------------\n",
      "Intercept      9.817e+06   7.11e+05     13.798      0.000    8.42e+06    1.12e+07\n",
      "Year          -4863.2457    353.325    -13.764      0.000   -5559.546   -4166.945\n",
      "Present_Price  1372.3410    160.563      8.547      0.000    1055.919    1688.763\n",
      "==============================================================================\n",
      "Omnibus:                        8.120   Durbin-Watson:                   1.938\n",
      "Prob(Omnibus):                  0.017   Jarque-Bera (JB):                8.428\n",
      "Skew:                           0.368   Prob(JB):                       0.0148\n",
      "Kurtosis:                       3.597   Cond. No.                     1.32e+06\n",
      "==============================================================================\n",
      "\n",
      "Notes:\n",
      "[1] Standard Errors assume that the covariance matrix of the errors is correctly specified.\n",
      "[2] The condition number is large, 1.32e+06. This might indicate that there are\n",
      "strong multicollinearity or other numerical problems.\n"
     ]
    }
   ],
   "source": [
    "print(model3.summary())"
   ]
  },
  {
   "cell_type": "code",
   "execution_count": 78,
   "id": "2a1eadb3",
   "metadata": {},
   "outputs": [],
   "source": [
    "model4 = smf.ols(formula='Kms_Driven~ Year + Present_Price', data=tst).fit()"
   ]
  },
  {
   "cell_type": "code",
   "execution_count": 79,
   "id": "69f67fdc",
   "metadata": {},
   "outputs": [
    {
     "name": "stdout",
     "output_type": "stream",
     "text": [
      "                            OLS Regression Results                            \n",
      "==============================================================================\n",
      "Dep. Variable:             Kms_Driven   R-squared:                       0.467\n",
      "Model:                            OLS   Adj. R-squared:                  0.453\n",
      "Method:                 Least Squares   F-statistic:                     32.00\n",
      "Date:                Wed, 04 Jan 2023   Prob (F-statistic):           1.05e-10\n",
      "Time:                        23:10:33   Log-Likelihood:                -833.77\n",
      "No. Observations:                  76   AIC:                             1674.\n",
      "Df Residuals:                      73   BIC:                             1681.\n",
      "Df Model:                           2                                         \n",
      "Covariance Type:            nonrobust                                         \n",
      "=================================================================================\n",
      "                    coef    std err          t      P>|t|      [0.025      0.975]\n",
      "---------------------------------------------------------------------------------\n",
      "Intercept       1.24e+07   1.59e+06      7.806      0.000    9.23e+06    1.56e+07\n",
      "Year          -6145.8447    788.867     -7.791      0.000   -7718.054   -4573.635\n",
      "Present_Price  1879.8607    570.896      3.293      0.002     742.067    3017.655\n",
      "==============================================================================\n",
      "Omnibus:                        0.401   Durbin-Watson:                   1.736\n",
      "Prob(Omnibus):                  0.818   Jarque-Bera (JB):                0.559\n",
      "Skew:                           0.034   Prob(JB):                        0.756\n",
      "Kurtosis:                       2.585   Cond. No.                     1.94e+06\n",
      "==============================================================================\n",
      "\n",
      "Notes:\n",
      "[1] Standard Errors assume that the covariance matrix of the errors is correctly specified.\n",
      "[2] The condition number is large, 1.94e+06. This might indicate that there are\n",
      "strong multicollinearity or other numerical problems.\n"
     ]
    }
   ],
   "source": [
    "print(model4.summary())"
   ]
  },
  {
   "cell_type": "code",
   "execution_count": 80,
   "id": "8d416c0c",
   "metadata": {},
   "outputs": [],
   "source": [
    "tst_x = tst.loc[:,tst.columns != 'Kms_Driven']\n",
    "tst_y = tst.loc[:,tst.columns == 'Kms_Driven']"
   ]
  },
  {
   "cell_type": "code",
   "execution_count": 81,
   "id": "404a822f",
   "metadata": {},
   "outputs": [
    {
     "data": {
      "text/plain": [
       "225    45444.097601\n",
       "226    22928.565448\n",
       "227    45124.521286\n",
       "228    48321.584145\n",
       "229    43415.147767\n",
       "           ...     \n",
       "296    27873.898741\n",
       "297    23304.537584\n",
       "298    69766.895412\n",
       "299    23419.928628\n",
       "300    17158.692859\n",
       "Length: 76, dtype: float64"
      ]
     },
     "execution_count": 81,
     "metadata": {},
     "output_type": "execute_result"
    }
   ],
   "source": [
    "pred_1 = model4.predict(tst_x)\n",
    "pred_1"
   ]
  },
  {
   "cell_type": "code",
   "execution_count": 82,
   "id": "b9edf8fd",
   "metadata": {},
   "outputs": [
    {
     "data": {
      "text/plain": [
       "(76,)"
      ]
     },
     "execution_count": 82,
     "metadata": {},
     "output_type": "execute_result"
    }
   ],
   "source": [
    "pred_1.shape"
   ]
  },
  {
   "cell_type": "code",
   "execution_count": 83,
   "id": "489d3f75",
   "metadata": {},
   "outputs": [],
   "source": [
    "y_test_series = tst_y.iloc[:,0] "
   ]
  },
  {
   "cell_type": "code",
   "execution_count": 84,
   "id": "cfcf9192",
   "metadata": {},
   "outputs": [],
   "source": [
    "resd_1 = y_test_series - pred_1"
   ]
  },
  {
   "cell_type": "code",
   "execution_count": 85,
   "id": "44b44369",
   "metadata": {},
   "outputs": [
    {
     "data": {
      "text/plain": [
       "225   -22927.097601\n",
       "226     1749.434552\n",
       "227    11875.478714\n",
       "228    11678.415855\n",
       "229     8716.852233\n",
       "           ...     \n",
       "296     6114.101259\n",
       "297    36695.462416\n",
       "298    18167.104588\n",
       "299   -14419.928628\n",
       "300   -11694.692859\n",
       "Length: 76, dtype: float64"
      ]
     },
     "execution_count": 85,
     "metadata": {},
     "output_type": "execute_result"
    }
   ],
   "source": [
    "resd_1"
   ]
  },
  {
   "cell_type": "code",
   "execution_count": 86,
   "id": "97e6bfb6",
   "metadata": {},
   "outputs": [
    {
     "data": {
      "text/plain": [
       "225    5.256518e+08\n",
       "226    3.060521e+06\n",
       "227    1.410270e+08\n",
       "228    1.363854e+08\n",
       "229    7.598351e+07\n",
       "           ...     \n",
       "296    3.738223e+07\n",
       "297    1.346557e+09\n",
       "298    3.300437e+08\n",
       "299    2.079343e+08\n",
       "300    1.367658e+08\n",
       "Length: 76, dtype: float64"
      ]
     },
     "execution_count": 86,
     "metadata": {},
     "output_type": "execute_result"
    }
   ],
   "source": [
    "se_1=resd_1.pow(2)\n",
    "se_1"
   ]
  },
  {
   "cell_type": "code",
   "execution_count": 88,
   "id": "b5d5b749",
   "metadata": {},
   "outputs": [
    {
     "data": {
      "text/plain": [
       "15043406289.603762"
      ]
     },
     "execution_count": 88,
     "metadata": {},
     "output_type": "execute_result"
    }
   ],
   "source": [
    "#Sum of Squared errors/residuals\n",
    "sse_1 = se_1.sum()\n",
    "sse_1"
   ]
  },
  {
   "cell_type": "code",
   "execution_count": 89,
   "id": "416f000f",
   "metadata": {},
   "outputs": [
    {
     "data": {
      "text/plain": [
       "197939556.44215477"
      ]
     },
     "execution_count": 89,
     "metadata": {},
     "output_type": "execute_result"
    }
   ],
   "source": [
    "#Mean sum squared errors\n",
    "msse_1=sse_1/len(se_1)\n",
    "msse_1"
   ]
  },
  {
   "cell_type": "code",
   "execution_count": 91,
   "id": "ec1e74a2",
   "metadata": {},
   "outputs": [
    {
     "data": {
      "text/plain": [
       "14069.099347227411"
      ]
     },
     "execution_count": 91,
     "metadata": {},
     "output_type": "execute_result"
    }
   ],
   "source": [
    "import math\n",
    "math.sqrt(msse_1)"
   ]
  },
  {
   "cell_type": "code",
   "execution_count": 92,
   "id": "7277be3a",
   "metadata": {},
   "outputs": [],
   "source": [
    "obsno=np.arange(0,76,1)"
   ]
  },
  {
   "cell_type": "code",
   "execution_count": 93,
   "id": "5246ee94",
   "metadata": {},
   "outputs": [
    {
     "data": {
      "text/plain": [
       "<matplotlib.legend.Legend at 0x16373ede580>"
      ]
     },
     "execution_count": 93,
     "metadata": {},
     "output_type": "execute_result"
    },
    {
     "data": {
      "image/png": "[encoded data removed]",
      "text/plain": [
       "<Figure size 432x288 with 1 Axes>"
      ]
     },
     "metadata": {
      "needs_background": "light"
     },
     "output_type": "display_data"
    }
   ],
   "source": [
    "fig,ax=plt.subplots()\n",
    "ax.plot(obsno,y_test_series,\"o\",label=\"data\")\n",
    "ax.plot(obsno,pred_1,\"r-\",label=\"predicated\")\n",
    "ax.legend(loc=\"best\")"
   ]
  },
  {
   "cell_type": "code",
   "execution_count": 94,
   "id": "1b60a07c",
   "metadata": {},
   "outputs": [
    {
     "data": {
      "text/plain": [
       "<AxesSubplot:ylabel='Density'>"
      ]
     },
     "execution_count": 94,
     "metadata": {},
     "output_type": "execute_result"
    },
    {
     "data": {
      "image/png": "[encoded data removed]",
      "text/plain": [
       "<Figure size 432x288 with 1 Axes>"
      ]
     },
     "metadata": {
      "needs_background": "light"
     },
     "output_type": "display_data"
    }
   ],
   "source": [
    "sns.distplot(resd_1)"
   ]
  },
  {
   "cell_type": "code",
   "execution_count": null,
   "id": "ebf03cf1",
   "metadata": {},
   "outputs": [],
   "source": []
  }
 ],
 "metadata": {
  "kernelspec": {
   "display_name": "Python 3 (ipykernel)",
   "language": "python",
   "name": "python3"
  },
  "language_info": {
   "codemirror_mode": {
    "name": "ipython",
    "version": 3
   },
   "file_extension": ".py",
   "mimetype": "text/x-python",
   "name": "python",
   "nbconvert_exporter": "python",
   "pygments_lexer": "ipython3",
   "version": "3.9.13"
  }
 },
 "nbformat": 4,
 "nbformat_minor": 5
}
